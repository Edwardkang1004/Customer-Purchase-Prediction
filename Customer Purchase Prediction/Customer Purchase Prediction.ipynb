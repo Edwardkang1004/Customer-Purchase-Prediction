{
 "cells": [
  {
   "cell_type": "code",
   "execution_count": 67,
   "metadata": {},
   "outputs": [
    {
     "data": {
      "text/html": [
       "<div>\n",
       "<style scoped>\n",
       "    .dataframe tbody tr th:only-of-type {\n",
       "        vertical-align: middle;\n",
       "    }\n",
       "\n",
       "    .dataframe tbody tr th {\n",
       "        vertical-align: top;\n",
       "    }\n",
       "\n",
       "    .dataframe thead th {\n",
       "        text-align: right;\n",
       "    }\n",
       "</style>\n",
       "<table border=\"1\" class=\"dataframe\">\n",
       "  <thead>\n",
       "    <tr style=\"text-align: right;\">\n",
       "      <th></th>\n",
       "      <th>F</th>\n",
       "      <th>M</th>\n",
       "      <th>R</th>\n",
       "      <th>attribute_set_name</th>\n",
       "      <th>city</th>\n",
       "      <th>created_at_month</th>\n",
       "      <th>created_at_year</th>\n",
       "      <th>customer_email</th>\n",
       "      <th>customer_id</th>\n",
       "      <th>customer_level</th>\n",
       "      <th>customer_name</th>\n",
       "      <th>customer_value</th>\n",
       "      <th>transacttion_value</th>\n",
       "      <th>province</th>\n",
       "      <th>t_created_at_year</th>\n",
       "      <th>t_created_at_month</th>\n",
       "      <th>t_created_at_day</th>\n",
       "      <th>t_created_at_time</th>\n",
       "    </tr>\n",
       "  </thead>\n",
       "  <tbody>\n",
       "    <tr>\n",
       "      <th>0</th>\n",
       "      <td>1</td>\n",
       "      <td>75.48</td>\n",
       "      <td>3</td>\n",
       "      <td>Swallow Nest;Specialty Foods</td>\n",
       "      <td>Jersey City</td>\n",
       "      <td>7</td>\n",
       "      <td>2019</td>\n",
       "      <td>yingzhu0711@gmail.com</td>\n",
       "      <td>35460</td>\n",
       "      <td>New Member</td>\n",
       "      <td>Ying Zhu</td>\n",
       "      <td>159.88872</td>\n",
       "      <td>75.48</td>\n",
       "      <td>New Jersey</td>\n",
       "      <td>2019</td>\n",
       "      <td>7</td>\n",
       "      <td>26</td>\n",
       "      <td>12</td>\n",
       "    </tr>\n",
       "    <tr>\n",
       "      <th>1</th>\n",
       "      <td>1</td>\n",
       "      <td>41.91</td>\n",
       "      <td>3</td>\n",
       "      <td>Chinese Herbal Medicine;Specialty Foods</td>\n",
       "      <td>HERSHEY</td>\n",
       "      <td>7</td>\n",
       "      <td>2019</td>\n",
       "      <td>870064478@qq.com</td>\n",
       "      <td>35458</td>\n",
       "      <td>New Member</td>\n",
       "      <td>Hui Zeng</td>\n",
       "      <td>145.15149</td>\n",
       "      <td>41.91</td>\n",
       "      <td>Pennsylvania</td>\n",
       "      <td>2019</td>\n",
       "      <td>7</td>\n",
       "      <td>26</td>\n",
       "      <td>12</td>\n",
       "    </tr>\n",
       "    <tr>\n",
       "      <th>2</th>\n",
       "      <td>1</td>\n",
       "      <td>62.90</td>\n",
       "      <td>3</td>\n",
       "      <td>Packed Medicine</td>\n",
       "      <td>Lancaster</td>\n",
       "      <td>7</td>\n",
       "      <td>2019</td>\n",
       "      <td>desiraekwong@gmail.com</td>\n",
       "      <td>35457</td>\n",
       "      <td>New Member</td>\n",
       "      <td>desirae kuang</td>\n",
       "      <td>154.36610</td>\n",
       "      <td>62.90</td>\n",
       "      <td>California</td>\n",
       "      <td>2019</td>\n",
       "      <td>7</td>\n",
       "      <td>26</td>\n",
       "      <td>11</td>\n",
       "    </tr>\n",
       "    <tr>\n",
       "      <th>3</th>\n",
       "      <td>1</td>\n",
       "      <td>51.60</td>\n",
       "      <td>3</td>\n",
       "      <td>Specialty Foods;Chinese Herbal Medicine</td>\n",
       "      <td>Chandler</td>\n",
       "      <td>7</td>\n",
       "      <td>2019</td>\n",
       "      <td>grapeade28@yahoo.com</td>\n",
       "      <td>35455</td>\n",
       "      <td>New Member</td>\n",
       "      <td>CAROL zhang</td>\n",
       "      <td>149.40540</td>\n",
       "      <td>51.60</td>\n",
       "      <td>Arizona</td>\n",
       "      <td>2019</td>\n",
       "      <td>7</td>\n",
       "      <td>26</td>\n",
       "      <td>11</td>\n",
       "    </tr>\n",
       "    <tr>\n",
       "      <th>4</th>\n",
       "      <td>1</td>\n",
       "      <td>103.20</td>\n",
       "      <td>3</td>\n",
       "      <td>Ginseng</td>\n",
       "      <td>Huntsville</td>\n",
       "      <td>7</td>\n",
       "      <td>2019</td>\n",
       "      <td>lz0006@uah.edu</td>\n",
       "      <td>35451</td>\n",
       "      <td>New Member</td>\n",
       "      <td>Liqian Zhang</td>\n",
       "      <td>172.05780</td>\n",
       "      <td>103.20</td>\n",
       "      <td>Alabama</td>\n",
       "      <td>2019</td>\n",
       "      <td>7</td>\n",
       "      <td>26</td>\n",
       "      <td>6</td>\n",
       "    </tr>\n",
       "  </tbody>\n",
       "</table>\n",
       "</div>"
      ],
      "text/plain": [
       "   F       M  R                       attribute_set_name         city  \\\n",
       "0  1   75.48  3             Swallow Nest;Specialty Foods  Jersey City   \n",
       "1  1   41.91  3  Chinese Herbal Medicine;Specialty Foods      HERSHEY   \n",
       "2  1   62.90  3                          Packed Medicine    Lancaster   \n",
       "3  1   51.60  3  Specialty Foods;Chinese Herbal Medicine     Chandler   \n",
       "4  1  103.20  3                                  Ginseng   Huntsville   \n",
       "\n",
       "   created_at_month  created_at_year          customer_email  customer_id  \\\n",
       "0                 7             2019   yingzhu0711@gmail.com        35460   \n",
       "1                 7             2019        870064478@qq.com        35458   \n",
       "2                 7             2019  desiraekwong@gmail.com        35457   \n",
       "3                 7             2019    grapeade28@yahoo.com        35455   \n",
       "4                 7             2019          lz0006@uah.edu        35451   \n",
       "\n",
       "  customer_level  customer_name  customer_value  transacttion_value  \\\n",
       "0     New Member       Ying Zhu       159.88872               75.48   \n",
       "1     New Member       Hui Zeng       145.15149               41.91   \n",
       "2     New Member  desirae kuang       154.36610               62.90   \n",
       "3     New Member    CAROL zhang       149.40540               51.60   \n",
       "4     New Member   Liqian Zhang       172.05780              103.20   \n",
       "\n",
       "       province  t_created_at_year  t_created_at_month  t_created_at_day  \\\n",
       "0    New Jersey               2019                   7                26   \n",
       "1  Pennsylvania               2019                   7                26   \n",
       "2    California               2019                   7                26   \n",
       "3       Arizona               2019                   7                26   \n",
       "4       Alabama               2019                   7                26   \n",
       "\n",
       "   t_created_at_time  \n",
       "0                 12  \n",
       "1                 12  \n",
       "2                 11  \n",
       "3                 11  \n",
       "4                  6  "
      ]
     },
     "execution_count": 67,
     "metadata": {},
     "output_type": "execute_result"
    }
   ],
   "source": [
    "import pandas as pd\n",
    "#read ufo.csv file into data frame\n",
    "df = pd.read_excel(\"pre.xlsx\")\n",
    "df.head()"
   ]
  },
  {
   "cell_type": "code",
   "execution_count": 68,
   "metadata": {},
   "outputs": [],
   "source": [
    "df = df.dropna()"
   ]
  },
  {
   "cell_type": "code",
   "execution_count": 69,
   "metadata": {},
   "outputs": [
    {
     "data": {
      "text/plain": [
       "F                     0\n",
       "M                     0\n",
       "R                     0\n",
       "attribute_set_name    0\n",
       "city                  0\n",
       "created_at_month      0\n",
       "created_at_year       0\n",
       "customer_email        0\n",
       "customer_id           0\n",
       "customer_level        0\n",
       "customer_name         0\n",
       "customer_value        0\n",
       "transacttion_value    0\n",
       "province              0\n",
       "t_created_at_year     0\n",
       "t_created_at_month    0\n",
       "t_created_at_day      0\n",
       "t_created_at_time     0\n",
       "dtype: int64"
      ]
     },
     "execution_count": 69,
     "metadata": {},
     "output_type": "execute_result"
    }
   ],
   "source": [
    "df.isnull().sum()"
   ]
  },
  {
   "cell_type": "code",
   "execution_count": 70,
   "metadata": {},
   "outputs": [
    {
     "data": {
      "text/plain": [
       "(19910, 18)"
      ]
     },
     "execution_count": 70,
     "metadata": {},
     "output_type": "execute_result"
    }
   ],
   "source": [
    "df.shape"
   ]
  },
  {
   "cell_type": "code",
   "execution_count": 71,
   "metadata": {},
   "outputs": [],
   "source": [
    "df = df.drop(['customer_email', 'customer_id','customer_name','city','customer_level','transacttion_value'], axis = 1)"
   ]
  },
  {
   "cell_type": "code",
   "execution_count": 72,
   "metadata": {},
   "outputs": [],
   "source": [
    "def classifcation(df):\n",
    "  if 'Ginseng' in df['attribute_set_name']:\n",
    "    return 1\n",
    "  else:\n",
    "    return 0\n",
    "\n",
    "df['Ginseng'] = df.apply(classifcation, axis=1)"
   ]
  },
  {
   "cell_type": "code",
   "execution_count": 73,
   "metadata": {},
   "outputs": [
    {
     "name": "stdout",
     "output_type": "stream",
     "text": [
      "Class 0: 14235\n",
      "Class 1: 5675\n",
      "Proportion: 3.0 : 1.0\n"
     ]
    }
   ],
   "source": [
    "target_count = df.Ginseng.value_counts()\n",
    "print('Class 0: {}'.format(target_count[0]))\n",
    "print('Class 1: {}'.format(target_count[1]))\n",
    "print('Proportion: {}'.format(round(target_count[0] / target_count[1]), 2), ': 1.0')"
   ]
  },
  {
   "cell_type": "code",
   "execution_count": 74,
   "metadata": {},
   "outputs": [
    {
     "data": {
      "text/plain": [
       "1    14235\n",
       "0    14235\n",
       "Name: Ginseng, dtype: int64"
      ]
     },
     "execution_count": 74,
     "metadata": {},
     "output_type": "execute_result"
    }
   ],
   "source": [
    "from sklearn.utils import resample\n",
    "df_majority = df[df.Ginseng==0]\n",
    "df_minority = df[df.Ginseng==1]\n",
    " \n",
    "# Upsample minority class\n",
    "df_minority_upsampled = resample(df_minority, \n",
    "                                 replace=True,     # sample with replacement\n",
    "                                 n_samples=14235,    # to match majority class\n",
    "                                 random_state=123) # reproducible results\n",
    " \n",
    "# Combine majority class with upsampled minority class\n",
    "df_upsampled = pd.concat([df_majority, df_minority_upsampled])\n",
    " \n",
    "# Display new class counts\n",
    "df_upsampled.Ginseng.value_counts()"
   ]
  },
  {
   "cell_type": "code",
   "execution_count": 75,
   "metadata": {},
   "outputs": [],
   "source": [
    "import numpy as np\n",
    "labels = df_upsampled['Ginseng']\n",
    "features= df_upsampled.drop(['attribute_set_name','Ginseng'],axis =1)"
   ]
  },
  {
   "cell_type": "code",
   "execution_count": 76,
   "metadata": {},
   "outputs": [
    {
     "name": "stdout",
     "output_type": "stream",
     "text": [
      "   F       M  R  created_at_month  created_at_year  customer_value  \\\n",
      "0  1   75.48  3                 7             2019       159.88872   \n",
      "1  1   41.91  3                 7             2019       145.15149   \n",
      "2  1   62.90  3                 7             2019       154.36610   \n",
      "3  1   51.60  3                 7             2019       149.40540   \n",
      "5  1  141.37  4                 7             2019       188.59343   \n",
      "\n",
      "   t_created_at_year  t_created_at_month  t_created_at_day  t_created_at_time  \\\n",
      "0               2019                   7                26                 12   \n",
      "1               2019                   7                26                 12   \n",
      "2               2019                   7                26                 11   \n",
      "3               2019                   7                26                 11   \n",
      "5               2019                   7                25                 22   \n",
      "\n",
      "   ...  province_浙江  province_海南  province_湖北  province_湖南  province_甘肃  \\\n",
      "0  ...            0            0            0            0            0   \n",
      "1  ...            0            0            0            0            0   \n",
      "2  ...            0            0            0            0            0   \n",
      "3  ...            0            0            0            0            0   \n",
      "5  ...            0            0            0            0            0   \n",
      "\n",
      "   province_福建  province_辽宁  province_重庆  province_陕西  province_黑龙江  \n",
      "0            0            0            0            0             0  \n",
      "1            0            0            0            0             0  \n",
      "2            0            0            0            0             0  \n",
      "3            0            0            0            0             0  \n",
      "5            0            0            0            0             0  \n",
      "\n",
      "[5 rows x 86 columns]\n"
     ]
    }
   ],
   "source": [
    "features = pd.get_dummies(features)\n",
    "print(features.head())"
   ]
  },
  {
   "cell_type": "code",
   "execution_count": 77,
   "metadata": {},
   "outputs": [],
   "source": [
    "from sklearn.model_selection import train_test_split\n",
    "\n",
    "train_features, test_features, train_labels, test_labels = train_test_split(features, labels, test_size = 0.30, random_state=42)"
   ]
  },
  {
   "cell_type": "code",
   "execution_count": 78,
   "metadata": {},
   "outputs": [],
   "source": [
    "import warnings\n",
    "warnings.filterwarnings('ignore')\n",
    "from sklearn.metrics import classification_report, accuracy_score, confusion_matrix\n",
    "import matplotlib.pyplot as plt"
   ]
  },
  {
   "cell_type": "markdown",
   "metadata": {},
   "source": [
    "# SVM"
   ]
  },
  {
   "cell_type": "code",
   "execution_count": 13,
   "metadata": {},
   "outputs": [
    {
     "name": "stdout",
     "output_type": "stream",
     "text": [
      "Accuracy: 0.8599\n",
      "              precision    recall  f1-score   support\n",
      "\n",
      "           0       0.85      0.87      0.86      4251\n",
      "           1       0.87      0.85      0.86      4290\n",
      "\n",
      "   micro avg       0.86      0.86      0.86      8541\n",
      "   macro avg       0.86      0.86      0.86      8541\n",
      "weighted avg       0.86      0.86      0.86      8541\n",
      "\n"
     ]
    },
    {
     "data": {
      "image/png": "[encoded data removed]",
      "text/plain": [
       "<Figure size 432x432 with 1 Axes>"
      ]
     },
     "metadata": {
      "needs_background": "light"
     },
     "output_type": "display_data"
    }
   ],
   "source": [
    "from sklearn import svm\n",
    "\n",
    "SVM = svm.SVC(random_state=42)\n",
    "SVM.fit(train_features, train_labels)\n",
    "\n",
    "y_pred = SVM.predict(test_features)\n",
    " \n",
    "accuracy = accuracy_score(test_labels, y_pred)\n",
    "print('Accuracy: {:.4f}'.format(accuracy))\n",
    "\n",
    "print(classification_report(test_labels, y_pred))\n",
    "\n",
    "cm = confusion_matrix(y_true = test_labels, y_pred = y_pred)\n",
    "fig, ax = plt.subplots(figsize = (6, 6))\n",
    "ax.matshow(cm, cmap = plt.cm.Blues, alpha = 0.3)\n",
    "for i in range(cm.shape[0]):\n",
    "    for j in range(cm.shape[1]):\n",
    "        ax.text(x=j, y=i, s=cm[i, j], va='center', ha='center')\n",
    "plt.xlabel('predicted label')\n",
    "plt.ylabel('true label');"
   ]
  },
  {
   "cell_type": "code",
   "execution_count": 15,
   "metadata": {},
   "outputs": [
    {
     "name": "stdout",
     "output_type": "stream",
     "text": [
      "Accuracy: 0.80 (+/- 0.03)\n"
     ]
    }
   ],
   "source": [
    "from sklearn.model_selection import cross_val_score\n",
    "\n",
    "scores = cross_val_score(SVM, features, labels, cv=5)\n",
    "print(\"Accuracy: %0.2f (+/- %0.2f)\" % (scores.mean(), scores.std() * 2))"
   ]
  },
  {
   "cell_type": "markdown",
   "metadata": {},
   "source": [
    "# Logistic Regression"
   ]
  },
  {
   "cell_type": "code",
   "execution_count": 54,
   "metadata": {},
   "outputs": [
    {
     "name": "stdout",
     "output_type": "stream",
     "text": [
      "Accuracy: 0.6339\n",
      "              precision    recall  f1-score   support\n",
      "\n",
      "           0       0.61      0.73      0.66      4251\n",
      "           1       0.67      0.54      0.60      4290\n",
      "\n",
      "   micro avg       0.63      0.63      0.63      8541\n",
      "   macro avg       0.64      0.63      0.63      8541\n",
      "weighted avg       0.64      0.63      0.63      8541\n",
      "\n"
     ]
    },
    {
     "data": {
      "image/png": "[encoded data removed]",
      "text/plain": [
       "<Figure size 432x432 with 1 Axes>"
      ]
     },
     "metadata": {
      "needs_background": "light"
     },
     "output_type": "display_data"
    }
   ],
   "source": [
    "from sklearn.linear_model import LogisticRegression\n",
    "\n",
    "lr = LogisticRegression(random_state = 42)\n",
    "lr.fit(train_features, train_labels)\n",
    "\n",
    "y_pred = lr.predict(test_features)\n",
    " \n",
    "accuracy = accuracy_score(test_labels, y_pred)\n",
    "print('Accuracy: {:.4f}'.format(accuracy))\n",
    "\n",
    "print(classification_report(test_labels, y_pred))\n",
    "\n",
    "cm = confusion_matrix(y_true = test_labels, y_pred = y_pred)\n",
    "fig, ax = plt.subplots(figsize = (6, 6))\n",
    "ax.matshow(cm, cmap = plt.cm.Blues, alpha = 0.3)\n",
    "for i in range(cm.shape[0]):\n",
    "    for j in range(cm.shape[1]):\n",
    "        ax.text(x=j, y=i, s=cm[i, j], va='center', ha='center')\n",
    "plt.xlabel('predicted label')\n",
    "plt.ylabel('true label');"
   ]
  },
  {
   "cell_type": "markdown",
   "metadata": {},
   "source": [
    "# KNN"
   ]
  },
  {
   "cell_type": "code",
   "execution_count": 55,
   "metadata": {},
   "outputs": [
    {
     "name": "stdout",
     "output_type": "stream",
     "text": [
      "Accuracy: 0.7508\n",
      "              precision    recall  f1-score   support\n",
      "\n",
      "           0       0.78      0.69      0.73      4251\n",
      "           1       0.73      0.81      0.77      4290\n",
      "\n",
      "   micro avg       0.75      0.75      0.75      8541\n",
      "   macro avg       0.75      0.75      0.75      8541\n",
      "weighted avg       0.75      0.75      0.75      8541\n",
      "\n",
      "              precision    recall  f1-score   support\n",
      "\n",
      "           0       0.78      0.69      0.73      4251\n",
      "           1       0.73      0.81      0.77      4290\n",
      "\n",
      "   micro avg       0.75      0.75      0.75      8541\n",
      "   macro avg       0.75      0.75      0.75      8541\n",
      "weighted avg       0.75      0.75      0.75      8541\n",
      "\n"
     ]
    },
    {
     "data": {
      "image/png": "[encoded data removed]",
      "text/plain": [
       "<Figure size 432x432 with 1 Axes>"
      ]
     },
     "metadata": {
      "needs_background": "light"
     },
     "output_type": "display_data"
    }
   ],
   "source": [
    "from sklearn.neighbors import KNeighborsClassifier\n",
    "\n",
    "knn = KNeighborsClassifier(n_neighbors=5)\n",
    "knn.fit(train_features, train_labels)\n",
    "\n",
    "y_pred = knn.predict(test_features)\n",
    " \n",
    "accuracy = accuracy_score(test_labels, y_pred)\n",
    "print('Accuracy: {:.4f}'.format(accuracy))\n",
    "\n",
    "print(classification_report(test_labels, y_pred))\n",
    "\n",
    "print(classification_report(test_labels, y_pred))\n",
    "\n",
    "cm = confusion_matrix(y_true = test_labels, y_pred = y_pred)\n",
    "fig, ax = plt.subplots(figsize = (6, 6))\n",
    "ax.matshow(cm, cmap = plt.cm.Blues, alpha = 0.3)\n",
    "for i in range(cm.shape[0]):\n",
    "    for j in range(cm.shape[1]):\n",
    "        ax.text(x=j, y=i, s=cm[i, j], va='center', ha='center')\n",
    "plt.xlabel('predicted label')\n",
    "plt.ylabel('true label');"
   ]
  },
  {
   "cell_type": "markdown",
   "metadata": {},
   "source": [
    "# Naive Bayes"
   ]
  },
  {
   "cell_type": "code",
   "execution_count": 56,
   "metadata": {},
   "outputs": [
    {
     "name": "stdout",
     "output_type": "stream",
     "text": [
      "Accuracy: 0.5676\n",
      "              precision    recall  f1-score   support\n",
      "\n",
      "           0       0.54      0.98      0.69      4251\n",
      "           1       0.89      0.16      0.27      4290\n",
      "\n",
      "   micro avg       0.57      0.57      0.57      8541\n",
      "   macro avg       0.71      0.57      0.48      8541\n",
      "weighted avg       0.71      0.57      0.48      8541\n",
      "\n"
     ]
    },
    {
     "data": {
      "image/png": "[encoded data removed]",
      "text/plain": [
       "<Figure size 432x432 with 1 Axes>"
      ]
     },
     "metadata": {
      "needs_background": "light"
     },
     "output_type": "display_data"
    }
   ],
   "source": [
    "from sklearn.naive_bayes import GaussianNB\n",
    "\n",
    "NB = GaussianNB()\n",
    "NB.fit(train_features, train_labels)\n",
    "\n",
    "y_pred = NB.predict(test_features)\n",
    " \n",
    "accuracy = accuracy_score(test_labels, y_pred)\n",
    "print('Accuracy: {:.4f}'.format(accuracy))\n",
    "\n",
    "print(classification_report(test_labels, y_pred))\n",
    "\n",
    "cm = confusion_matrix(y_true = test_labels, y_pred = y_pred)\n",
    "fig, ax = plt.subplots(figsize = (6, 6))\n",
    "ax.matshow(cm, cmap = plt.cm.Blues, alpha = 0.3)\n",
    "for i in range(cm.shape[0]):\n",
    "    for j in range(cm.shape[1]):\n",
    "        ax.text(x=j, y=i, s=cm[i, j], va='center', ha='center')\n",
    "plt.xlabel('predicted label')\n",
    "plt.ylabel('true label');"
   ]
  },
  {
   "cell_type": "markdown",
   "metadata": {},
   "source": [
    "# AdaBoost"
   ]
  },
  {
   "cell_type": "code",
   "execution_count": 57,
   "metadata": {},
   "outputs": [
    {
     "name": "stdout",
     "output_type": "stream",
     "text": [
      "Accuracy: 0.6627\n",
      "              precision    recall  f1-score   support\n",
      "\n",
      "           0       0.64      0.73      0.68      4251\n",
      "           1       0.69      0.60      0.64      4290\n",
      "\n",
      "   micro avg       0.66      0.66      0.66      8541\n",
      "   macro avg       0.67      0.66      0.66      8541\n",
      "weighted avg       0.67      0.66      0.66      8541\n",
      "\n"
     ]
    },
    {
     "data": {
      "image/png": "[encoded data removed]",
      "text/plain": [
       "<Figure size 432x432 with 1 Axes>"
      ]
     },
     "metadata": {
      "needs_background": "light"
     },
     "output_type": "display_data"
    }
   ],
   "source": [
    "from sklearn.ensemble import AdaBoostClassifier\n",
    "from sklearn.tree import DecisionTreeClassifier\n",
    "\n",
    "# instantiate a Decision Tree\n",
    "dt = DecisionTreeClassifier(max_depth = 2, random_state=42)\n",
    "\n",
    "# instantate and fit an AdaBoost Classifier\n",
    "adb_clf = AdaBoostClassifier(base_estimator = dt, n_estimators = 5, random_state = 42)\n",
    "adb_clf.fit(train_features, train_labels)\n",
    "\n",
    "# make predictions on the test set\n",
    "y_pred = adb_clf.predict(test_features)\n",
    " \n",
    "accuracy = accuracy_score(test_labels, y_pred)\n",
    "print('Accuracy: {:.4f}'.format(accuracy))\n",
    "\n",
    "print(classification_report(test_labels, y_pred))\n",
    "\n",
    "cm = confusion_matrix(y_true = test_labels, y_pred = y_pred)\n",
    "fig, ax = plt.subplots(figsize = (6, 6))\n",
    "ax.matshow(cm, cmap = plt.cm.Blues, alpha = 0.3)\n",
    "for i in range(cm.shape[0]):\n",
    "    for j in range(cm.shape[1]):\n",
    "        ax.text(x=j, y=i, s=cm[i, j], va='center', ha='center')\n",
    "plt.xlabel('predicted label')\n",
    "plt.ylabel('true label');"
   ]
  },
  {
   "cell_type": "markdown",
   "metadata": {},
   "source": [
    "# Random Forest"
   ]
  },
  {
   "cell_type": "code",
   "execution_count": 80,
   "metadata": {},
   "outputs": [
    {
     "name": "stdout",
     "output_type": "stream",
     "text": [
      "Accuracy: 0.9018\n",
      "              precision    recall  f1-score   support\n",
      "\n",
      "           0       0.93      0.87      0.90      4251\n",
      "           1       0.88      0.93      0.91      4290\n",
      "\n",
      "   micro avg       0.90      0.90      0.90      8541\n",
      "   macro avg       0.90      0.90      0.90      8541\n",
      "weighted avg       0.90      0.90      0.90      8541\n",
      "\n"
     ]
    },
    {
     "data": {
      "image/png": "[encoded data removed]",
      "text/plain": [
       "<Figure size 432x432 with 1 Axes>"
      ]
     },
     "metadata": {
      "needs_background": "light"
     },
     "output_type": "display_data"
    }
   ],
   "source": [
    "from sklearn.ensemble import RandomForestClassifier\n",
    "\n",
    "rf = RandomForestClassifier(n_estimators = 100, random_state=42)\n",
    "rf.fit(train_features, train_labels)\n",
    "\n",
    "y_pred = rf.predict(test_features)\n",
    "\n",
    "accuracy = accuracy_score(test_labels, y_pred)\n",
    "print('Accuracy: {:.4f}'.format(accuracy))\n",
    "\n",
    "print(classification_report(test_labels, y_pred))\n",
    "\n",
    "cm = confusion_matrix(y_true = test_labels, y_pred = y_pred)\n",
    "fig, ax = plt.subplots(figsize = (6, 6))\n",
    "ax.matshow(cm, cmap = plt.cm.Blues, alpha = 0.3)\n",
    "for i in range(cm.shape[0]):\n",
    "    for j in range(cm.shape[1]):\n",
    "        ax.text(x=j, y=i, s=cm[i, j], va='center', ha='center')\n",
    "plt.xlabel('predicted label')\n",
    "plt.ylabel('true label');"
   ]
  },
  {
   "cell_type": "code",
   "execution_count": 82,
   "metadata": {},
   "outputs": [
    {
     "data": {
      "image/png": "[encoded data removed]",
      "text/plain": [
       "<Figure size 432x288 with 1 Axes>"
      ]
     },
     "metadata": {
      "needs_background": "light"
     },
     "output_type": "display_data"
    }
   ],
   "source": [
    "from sklearn.metrics import roc_curve\n",
    "\n",
    "# Compute predicted probabilities: y_pred_prob\n",
    "y_pred_prob = rf.predict_proba(test_features)[:,1]\n",
    "\n",
    "# Generate ROC curve values: fpr, tpr, thresholds\n",
    "fpr, tpr, thresholds = roc_curve(test_labels, y_pred_prob)\n",
    "\n",
    "# Plot ROC curve\n",
    "plt.plot([0, 1], [0, 1], 'k--')\n",
    "plt.plot(fpr, tpr)\n",
    "plt.xlabel('False Positive Rate')\n",
    "plt.ylabel('True Positive Rate')\n",
    "plt.title('ROC Curve')\n",
    "plt.show()"
   ]
  },
  {
   "cell_type": "code",
   "execution_count": 84,
   "metadata": {},
   "outputs": [
    {
     "name": "stdout",
     "output_type": "stream",
     "text": [
      "AUC: 0.9685768164243816\n"
     ]
    }
   ],
   "source": [
    "from sklearn.model_selection import cross_val_score\n",
    "from sklearn.metrics import roc_auc_score\n",
    "\n",
    "# Compute predicted probabilities: y_pred_prob\n",
    "y_pred_prob = rf.predict_proba(test_features)[:,1]\n",
    "\n",
    "# Compute and print AUC score\n",
    "print(\"AUC: {}\".format(roc_auc_score(test_labels, y_pred_prob)))"
   ]
  },
  {
   "cell_type": "code",
   "execution_count": 86,
   "metadata": {},
   "outputs": [
    {
     "name": "stdout",
     "output_type": "stream",
     "text": [
      "AUC scores computed using 5-fold cross-validation: 0.7608599516693113\n"
     ]
    }
   ],
   "source": [
    "# Compute cross-validated AUC scores: cv_auc\n",
    "cv_auc = cross_val_score(rf, features, labels, cv=5, scoring='roc_auc')\n",
    "\n",
    "# Print list of AUC scores\n",
    "print(\"AUC scores computed using 5-fold cross-validation: {}\".format(np.mean(cv_auc)))"
   ]
  },
  {
   "cell_type": "markdown",
   "metadata": {},
   "source": [
    "# Features Selection"
   ]
  },
  {
   "cell_type": "code",
   "execution_count": 87,
   "metadata": {},
   "outputs": [
    {
     "name": "stdout",
     "output_type": "stream",
     "text": [
      "Variable: M                    Importance: 0.17\n",
      "Variable: customer_value       Importance: 0.13\n",
      "Variable: R                    Importance: 0.12\n",
      "Variable: t_created_at_day     Importance: 0.09\n",
      "Variable: t_created_at_time    Importance: 0.08\n",
      "Variable: F                    Importance: 0.07\n",
      "Variable: t_created_at_month   Importance: 0.06\n",
      "Variable: created_at_month     Importance: 0.05\n",
      "Variable: created_at_year      Importance: 0.04\n",
      "Variable: t_created_at_year    Importance: 0.01\n",
      "Variable: province_California  Importance: 0.01\n",
      "Variable: province_Florida     Importance: 0.01\n",
      "Variable: province_Massachusetts Importance: 0.01\n",
      "Variable: province_New Jersey  Importance: 0.01\n",
      "Variable: province_New York    Importance: 0.01\n",
      "Variable: province_Texas       Importance: 0.01\n",
      "Variable: province_Virginia    Importance: 0.01\n",
      "Variable: province_Washington  Importance: 0.01\n",
      "Variable: province_上海          Importance: 0.01\n",
      "Variable: province_广东          Importance: 0.01\n",
      "Variable: province_Alabama     Importance: 0.0\n",
      "Variable: province_Arizona     Importance: 0.0\n",
      "Variable: province_Arkansas    Importance: 0.0\n",
      "Variable: province_Colorado    Importance: 0.0\n",
      "Variable: province_Connecticut Importance: 0.0\n",
      "Variable: province_Delaware    Importance: 0.0\n",
      "Variable: province_District of Columbia Importance: 0.0\n",
      "Variable: province_Georgia     Importance: 0.0\n",
      "Variable: province_Hawaii      Importance: 0.0\n",
      "Variable: province_Idaho       Importance: 0.0\n",
      "Variable: province_Illinois    Importance: 0.0\n",
      "Variable: province_Indiana     Importance: 0.0\n",
      "Variable: province_Iowa        Importance: 0.0\n",
      "Variable: province_Kansas      Importance: 0.0\n",
      "Variable: province_Kentucky    Importance: 0.0\n",
      "Variable: province_Louisiana   Importance: 0.0\n",
      "Variable: province_Maine       Importance: 0.0\n",
      "Variable: province_Maryland    Importance: 0.0\n",
      "Variable: province_Michigan    Importance: 0.0\n",
      "Variable: province_Minnesota   Importance: 0.0\n",
      "Variable: province_Mississippi Importance: 0.0\n",
      "Variable: province_Missouri    Importance: 0.0\n",
      "Variable: province_Montana     Importance: 0.0\n",
      "Variable: province_Nebraska    Importance: 0.0\n",
      "Variable: province_Nevada      Importance: 0.0\n",
      "Variable: province_New Hampshire Importance: 0.0\n",
      "Variable: province_New Mexico  Importance: 0.0\n",
      "Variable: province_North Carolina Importance: 0.0\n",
      "Variable: province_North Dakota Importance: 0.0\n",
      "Variable: province_Ohio        Importance: 0.0\n",
      "Variable: province_Oklahoma    Importance: 0.0\n",
      "Variable: province_Oregon      Importance: 0.0\n",
      "Variable: province_Pennsylvania Importance: 0.0\n",
      "Variable: province_Rhode Island Importance: 0.0\n",
      "Variable: province_South Carolina Importance: 0.0\n",
      "Variable: province_South Dakota Importance: 0.0\n",
      "Variable: province_Tennessee   Importance: 0.0\n",
      "Variable: province_Utah        Importance: 0.0\n",
      "Variable: province_Vermont     Importance: 0.0\n",
      "Variable: province_West Virginia Importance: 0.0\n",
      "Variable: province_Wisconsin   Importance: 0.0\n",
      "Variable: province_Wyoming     Importance: 0.0\n",
      "Variable: province_云南          Importance: 0.0\n",
      "Variable: province_北京          Importance: 0.0\n",
      "Variable: province_吉林          Importance: 0.0\n",
      "Variable: province_四川          Importance: 0.0\n",
      "Variable: province_天津          Importance: 0.0\n",
      "Variable: province_安徽          Importance: 0.0\n",
      "Variable: province_山东          Importance: 0.0\n",
      "Variable: province_山西          Importance: 0.0\n",
      "Variable: province_广西          Importance: 0.0\n",
      "Variable: province_新疆          Importance: 0.0\n",
      "Variable: province_江苏          Importance: 0.0\n",
      "Variable: province_江西          Importance: 0.0\n",
      "Variable: province_河北          Importance: 0.0\n",
      "Variable: province_河南          Importance: 0.0\n",
      "Variable: province_浙江          Importance: 0.0\n",
      "Variable: province_海南          Importance: 0.0\n",
      "Variable: province_湖北          Importance: 0.0\n",
      "Variable: province_湖南          Importance: 0.0\n",
      "Variable: province_甘肃          Importance: 0.0\n",
      "Variable: province_福建          Importance: 0.0\n",
      "Variable: province_辽宁          Importance: 0.0\n",
      "Variable: province_重庆          Importance: 0.0\n",
      "Variable: province_陕西          Importance: 0.0\n",
      "Variable: province_黑龙江         Importance: 0.0\n"
     ]
    }
   ],
   "source": [
    "feature_list = list(features.columns)\n",
    "importances = list(rf.feature_importances_)\n",
    "# List of tuples with variable and importance\n",
    "feature_importances = [(feature, round(importance, 2)) for feature, importance in zip(feature_list, importances)]\n",
    "# Sort the feature importances by most important first\n",
    "feature_importances = sorted(feature_importances, key = lambda x: x[1], reverse = True)\n",
    "# Print out the feature and importances \n",
    "[print('Variable: {:20} Importance: {}'.format(*pair)) for pair in feature_importances];"
   ]
  },
  {
   "cell_type": "code",
   "execution_count": 88,
   "metadata": {},
   "outputs": [],
   "source": [
    "features= features[['M','customer_value','R','t_created_at_day','t_created_at_time','F','t_created_at_month']]"
   ]
  },
  {
   "cell_type": "code",
   "execution_count": 89,
   "metadata": {},
   "outputs": [],
   "source": [
    "train_features, test_features, train_labels, test_labels = train_test_split(features, labels, test_size = 0.30,random_state=42)"
   ]
  },
  {
   "cell_type": "code",
   "execution_count": 90,
   "metadata": {},
   "outputs": [
    {
     "name": "stdout",
     "output_type": "stream",
     "text": [
      "Accuracy: 0.8832\n",
      "              precision    recall  f1-score   support\n",
      "\n",
      "           0       0.92      0.84      0.88      4251\n",
      "           1       0.85      0.93      0.89      4290\n",
      "\n",
      "   micro avg       0.88      0.88      0.88      8541\n",
      "   macro avg       0.89      0.88      0.88      8541\n",
      "weighted avg       0.89      0.88      0.88      8541\n",
      "\n"
     ]
    },
    {
     "data": {
      "image/png": "[encoded data removed]",
      "text/plain": [
       "<Figure size 432x432 with 1 Axes>"
      ]
     },
     "metadata": {
      "needs_background": "light"
     },
     "output_type": "display_data"
    }
   ],
   "source": [
    "from sklearn.ensemble import RandomForestClassifier\n",
    "\n",
    "rf = RandomForestClassifier(n_estimators = 100, random_state=42)\n",
    "rf.fit(train_features, train_labels)\n",
    "\n",
    "y_pred = rf.predict(test_features)\n",
    "\n",
    "accuracy = accuracy_score(test_labels, y_pred)\n",
    "print('Accuracy: {:.4f}'.format(accuracy))\n",
    "\n",
    "print(classification_report(test_labels, y_pred))\n",
    "\n",
    "cm = confusion_matrix(y_true = test_labels, y_pred = y_pred)\n",
    "fig, ax = plt.subplots(figsize = (6, 6))\n",
    "ax.matshow(cm, cmap = plt.cm.Blues, alpha = 0.3)\n",
    "for i in range(cm.shape[0]):\n",
    "    for j in range(cm.shape[1]):\n",
    "        ax.text(x=j, y=i, s=cm[i, j], va='center', ha='center')\n",
    "plt.xlabel('predicted label')\n",
    "plt.ylabel('true label');"
   ]
  },
  {
   "cell_type": "code",
   "execution_count": 91,
   "metadata": {},
   "outputs": [
    {
     "name": "stdout",
     "output_type": "stream",
     "text": [
      "AUC scores computed using 5-fold cross-validation: 0.931059728139567\n"
     ]
    }
   ],
   "source": [
    "# Compute cross-validated AUC scores: cv_auc\n",
    "cv_auc = cross_val_score(rf, features, labels, cv=5, scoring='roc_auc')\n",
    "\n",
    "# Print list of AUC scores\n",
    "print(\"AUC scores computed using 5-fold cross-validation: {}\".format(np.mean(cv_auc)))"
   ]
  },
  {
   "cell_type": "markdown",
   "metadata": {},
   "source": [
    "# Random Forest Tuning"
   ]
  },
  {
   "cell_type": "code",
   "execution_count": 92,
   "metadata": {},
   "outputs": [
    {
     "name": "stdout",
     "output_type": "stream",
     "text": [
      "{'n_estimators': [200, 400, 600, 800, 1000, 1200, 1400, 1600, 1800, 2000], 'max_features': ['auto', 'sqrt'], 'max_depth': [10, 20, 30, 40, 50, 60, 70, 80, 90, 100, 110], 'min_samples_split': [2, 5, 10], 'min_samples_leaf': [1, 2, 4], 'bootstrap': [True, False]}\n"
     ]
    }
   ],
   "source": [
    "from sklearn.model_selection import RandomizedSearchCV\n",
    "\n",
    "n_estimators = [int(x) for x in np.linspace(start = 200, stop = 2000, num = 10)]\n",
    "max_features = ['auto', 'sqrt']\n",
    "max_depth = [int(x) for x in np.linspace(10, 110, num = 11)]\n",
    "min_samples_split = [2, 5, 10]\n",
    "min_samples_leaf = [1, 2, 4]\n",
    "bootstrap = [True, False]\n",
    "\n",
    "random_grid = {'n_estimators': n_estimators,\n",
    "               'max_features': max_features,\n",
    "               'max_depth': max_depth,\n",
    "               'min_samples_split': min_samples_split,\n",
    "               'min_samples_leaf': min_samples_leaf,\n",
    "               'bootstrap': bootstrap}\n",
    "print(random_grid)"
   ]
  },
  {
   "cell_type": "code",
   "execution_count": 93,
   "metadata": {},
   "outputs": [
    {
     "name": "stdout",
     "output_type": "stream",
     "text": [
      "Fitting 5 folds for each of 50 candidates, totalling 250 fits\n"
     ]
    },
    {
     "name": "stderr",
     "output_type": "stream",
     "text": [
      "[Parallel(n_jobs=-1)]: Using backend LokyBackend with 8 concurrent workers.\n",
      "[Parallel(n_jobs=-1)]: Done  25 tasks      | elapsed:  3.0min\n",
      "[Parallel(n_jobs=-1)]: Done 146 tasks      | elapsed: 19.2min\n",
      "[Parallel(n_jobs=-1)]: Done 250 out of 250 | elapsed: 31.3min finished\n"
     ]
    },
    {
     "data": {
      "text/plain": [
       "RandomizedSearchCV(cv=5, error_score='raise-deprecating',\n",
       "          estimator=RandomForestClassifier(bootstrap=True, class_weight=None, criterion='gini',\n",
       "            max_depth=None, max_features='auto', max_leaf_nodes=None,\n",
       "            min_impurity_decrease=0.0, min_impurity_split=None,\n",
       "            min_samples_leaf=1, min_samples_split=2,\n",
       "            min_weight_fraction_leaf=0.0, n_estimators='warn', n_jobs=None,\n",
       "            oob_score=False, random_state=None, verbose=0,\n",
       "            warm_start=False),\n",
       "          fit_params=None, iid='warn', n_iter=50, n_jobs=-1,\n",
       "          param_distributions={'n_estimators': [200, 400, 600, 800, 1000, 1200, 1400, 1600, 1800, 2000], 'max_features': ['auto', 'sqrt'], 'max_depth': [10, 20, 30, 40, 50, 60, 70, 80, 90, 100, 110], 'min_samples_split': [2, 5, 10], 'min_samples_leaf': [1, 2, 4], 'bootstrap': [True, False]},\n",
       "          pre_dispatch='2*n_jobs', random_state=42, refit=True,\n",
       "          return_train_score='warn', scoring=None, verbose=2)"
      ]
     },
     "execution_count": 93,
     "metadata": {},
     "output_type": "execute_result"
    }
   ],
   "source": [
    "rf = RandomForestClassifier()\n",
    "rf_random = RandomizedSearchCV(estimator = rf, param_distributions = random_grid, n_iter = 50, cv = 5, verbose=2, random_state=42, n_jobs = -1)\n",
    "rf_random.fit(train_features, train_labels)"
   ]
  },
  {
   "cell_type": "code",
   "execution_count": 94,
   "metadata": {},
   "outputs": [
    {
     "data": {
      "text/plain": [
       "{'n_estimators': 800,\n",
       " 'min_samples_split': 2,\n",
       " 'min_samples_leaf': 1,\n",
       " 'max_features': 'sqrt',\n",
       " 'max_depth': 70,\n",
       " 'bootstrap': False}"
      ]
     },
     "execution_count": 94,
     "metadata": {},
     "output_type": "execute_result"
    }
   ],
   "source": [
    "rf_random.best_params_"
   ]
  },
  {
   "cell_type": "code",
   "execution_count": 95,
   "metadata": {},
   "outputs": [
    {
     "data": {
      "text/plain": [
       "0.8715941592653922"
      ]
     },
     "execution_count": 95,
     "metadata": {},
     "output_type": "execute_result"
    }
   ],
   "source": [
    "rf_random.best_score_"
   ]
  },
  {
   "cell_type": "code",
   "execution_count": 99,
   "metadata": {},
   "outputs": [
    {
     "name": "stdout",
     "output_type": "stream",
     "text": [
      "Fitting 5 folds for each of 60 candidates, totalling 300 fits\n"
     ]
    },
    {
     "name": "stderr",
     "output_type": "stream",
     "text": [
      "[Parallel(n_jobs=-1)]: Using backend LokyBackend with 8 concurrent workers.\n",
      "[Parallel(n_jobs=-1)]: Done  25 tasks      | elapsed:  3.3min\n",
      "[Parallel(n_jobs=-1)]: Done 146 tasks      | elapsed: 17.8min\n",
      "[Parallel(n_jobs=-1)]: Done 300 out of 300 | elapsed: 35.6min finished\n"
     ]
    },
    {
     "data": {
      "text/plain": [
       "GridSearchCV(cv=5, error_score='raise-deprecating',\n",
       "       estimator=RandomForestClassifier(bootstrap=True, class_weight=None, criterion='gini',\n",
       "            max_depth=None, max_features='auto', max_leaf_nodes=None,\n",
       "            min_impurity_decrease=0.0, min_impurity_split=None,\n",
       "            min_samples_leaf=1, min_samples_split=2,\n",
       "            min_weight_fraction_leaf=0.0, n_estimators='warn', n_jobs=None,\n",
       "            oob_score=False, random_state=None, verbose=0,\n",
       "            warm_start=False),\n",
       "       fit_params=None, iid='warn', n_jobs=-1,\n",
       "       param_grid={'bootstrap': [False], 'max_depth': [50, 60, 70, 80, 90], 'max_features': ['sqrt'], 'min_samples_leaf': [1, 2], 'min_samples_split': [2, 5], 'n_estimators': [600, 800, 1000]},\n",
       "       pre_dispatch='2*n_jobs', refit=True, return_train_score='warn',\n",
       "       scoring=None, verbose=2)"
      ]
     },
     "execution_count": 99,
     "metadata": {},
     "output_type": "execute_result"
    }
   ],
   "source": [
    "from sklearn.model_selection import GridSearchCV\n",
    "# Create the parameter grid based on the results of random search \n",
    "param_grid = {\n",
    "    'bootstrap': [False],\n",
    "    'max_depth': [50, 60, 70, 80, 90],\n",
    "    'max_features': ['sqrt'],\n",
    "    'min_samples_leaf': [1, 2],\n",
    "    'min_samples_split': [2, 5],\n",
    "    'n_estimators': [600, 800, 1000]\n",
    "}\n",
    "# Create a based model\n",
    "rf = RandomForestClassifier()\n",
    "# Instantiate the grid search model\n",
    "grid_search = GridSearchCV(estimator = rf, param_grid = param_grid, \n",
    "                          cv = 5, n_jobs = -1, verbose = 2)\n",
    "\n",
    "grid_search.fit(train_features, train_labels)"
   ]
  },
  {
   "cell_type": "code",
   "execution_count": 100,
   "metadata": {},
   "outputs": [
    {
     "data": {
      "text/plain": [
       "{'bootstrap': False,\n",
       " 'max_depth': 80,\n",
       " 'max_features': 'sqrt',\n",
       " 'min_samples_leaf': 1,\n",
       " 'min_samples_split': 2,\n",
       " 'n_estimators': 1000}"
      ]
     },
     "execution_count": 100,
     "metadata": {},
     "output_type": "execute_result"
    }
   ],
   "source": [
    "grid_search.best_params_"
   ]
  },
  {
   "cell_type": "code",
   "execution_count": 101,
   "metadata": {},
   "outputs": [
    {
     "data": {
      "text/plain": [
       "0.872246474986201"
      ]
     },
     "execution_count": 101,
     "metadata": {},
     "output_type": "execute_result"
    }
   ],
   "source": [
    "grid_search.best_score_"
   ]
  },
  {
   "cell_type": "code",
   "execution_count": 102,
   "metadata": {},
   "outputs": [
    {
     "name": "stdout",
     "output_type": "stream",
     "text": [
      "Accuracy: 0.8722\n",
      "              precision    recall  f1-score   support\n",
      "\n",
      "           0       0.92      0.87      0.89      4251\n",
      "           1       0.88      0.92      0.90      4290\n",
      "\n",
      "   micro avg       0.89      0.89      0.89      8541\n",
      "   macro avg       0.90      0.89      0.89      8541\n",
      "weighted avg       0.90      0.89      0.89      8541\n",
      "\n"
     ]
    },
    {
     "data": {
      "image/png": "[encoded data removed]",
      "text/plain": [
       "<Figure size 432x432 with 1 Axes>"
      ]
     },
     "metadata": {
      "needs_background": "light"
     },
     "output_type": "display_data"
    }
   ],
   "source": [
    "rf_b = RandomForestClassifier(n_estimators = 1000, bootstrap= False, max_depth = 80, max_features ='sqrt', min_samples_leaf = 1,\n",
    "                              min_samples_split = 2, random_state=42)\n",
    "rf_b.fit(train_features, train_labels)\n",
    "\n",
    "y_pred = rf_b.predict(test_features)\n",
    "\n",
    "accuracy = grid_search.best_score_\n",
    "print('Accuracy: {:.4f}'.format(accuracy))\n",
    "\n",
    "print(classification_report(test_labels, y_pred))\n",
    "\n",
    "cm = confusion_matrix(y_true = test_labels, y_pred = y_pred)\n",
    "fig, ax = plt.subplots(figsize = (6, 6))\n",
    "ax.matshow(cm, cmap = plt.cm.Blues, alpha = 0.3)\n",
    "for i in range(cm.shape[0]):\n",
    "    for j in range(cm.shape[1]):\n",
    "        ax.text(x=j, y=i, s=cm[i, j], va='center', ha='center')\n",
    "plt.xlabel('predicted label')\n",
    "plt.ylabel('true label');"
   ]
  },
  {
   "cell_type": "code",
   "execution_count": 106,
   "metadata": {},
   "outputs": [
    {
     "data": {
      "image/png": "[encoded data removed]",
      "text/plain": [
       "<Figure size 432x288 with 1 Axes>"
      ]
     },
     "metadata": {
      "needs_background": "light"
     },
     "output_type": "display_data"
    }
   ],
   "source": [
    "from sklearn.metrics import roc_curve\n",
    "\n",
    "# Compute predicted probabilities: y_pred_prob\n",
    "y_pred_prob = rf_b.predict_proba(test_features)[:,1]\n",
    "\n",
    "# Generate ROC curve values: fpr, tpr, thresholds\n",
    "fpr, tpr, thresholds = roc_curve(test_labels, y_pred_prob)\n",
    "\n",
    "# Plot ROC curve\n",
    "plt.plot([0, 1], [0, 1], 'k--')\n",
    "plt.plot(fpr, tpr)\n",
    "plt.xlabel('False Positive Rate')\n",
    "plt.ylabel('True Positive Rate')\n",
    "plt.title('ROC Curve')\n",
    "plt.show()"
   ]
  },
  {
   "cell_type": "code",
   "execution_count": 108,
   "metadata": {},
   "outputs": [
    {
     "name": "stdout",
     "output_type": "stream",
     "text": [
      "AUC: 0.9670509448208812\n"
     ]
    }
   ],
   "source": [
    "y_pred_prob = rf_b.predict_proba(test_features)[:,1]\n",
    "\n",
    "# Compute and print AUC score\n",
    "print(\"AUC: {}\".format(roc_auc_score(test_labels, y_pred_prob)))"
   ]
  },
  {
   "cell_type": "code",
   "execution_count": 104,
   "metadata": {},
   "outputs": [
    {
     "name": "stdout",
     "output_type": "stream",
     "text": [
      "AUC scores computed using 5-fold cross-validation: 0.9546729103984759\n"
     ]
    }
   ],
   "source": [
    "# Compute cross-validated AUC scores: cv_auc\n",
    "cv_auc = cross_val_score(rf_b, features, labels, cv=5, scoring='roc_auc')\n",
    "\n",
    "# Print list of AUC scores\n",
    "print(\"AUC scores computed using 5-fold cross-validation: {}\".format(np.mean(cv_auc)))"
   ]
  }
 ],
 "metadata": {
  "kernelspec": {
   "display_name": "Python 3",
   "language": "python",
   "name": "python3"
  },
  "language_info": {
   "codemirror_mode": {
    "name": "ipython",
    "version": 3
   },
   "file_extension": ".py",
   "mimetype": "text/x-python",
   "name": "python",
   "nbconvert_exporter": "python",
   "pygments_lexer": "ipython3",
   "version": "3.7.3"
  }
 },
 "nbformat": 4,
 "nbformat_minor": 2
}
